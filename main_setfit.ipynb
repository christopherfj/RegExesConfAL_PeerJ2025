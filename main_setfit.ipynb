{
 "cells": [
  {
   "cell_type": "code",
   "execution_count": null,
   "id": "6add7a08",
   "metadata": {
    "id": "6add7a08"
   },
   "outputs": [],
   "source": [
    "from google.colab import drive\n",
    "drive.mount('/content/gdrive/', force_remount=True)\n",
    "%cd /content/gdrive/My Drive/Research/UOH/BHI2024"
   ]
  },
  {
   "cell_type": "code",
   "execution_count": null,
   "id": "e26acf9a",
   "metadata": {
    "id": "e26acf9a"
   },
   "outputs": [],
   "source": [
    "!pip install scipy==1.10.1\n",
    "!pip install gensim==4.2.0 --q\n",
    "!pip install editdistance==0.6.1 --q\n",
    "!pip install lingpy --q\n",
    "!pip install accelerate --q\n",
    "\n",
    "!pip install transformers==4.42.0 --q\n",
    "!pip install setfit --q\n",
    "\n",
    "!pip install np_utils --q\n",
    "!pip install peft==0.10.0 --q"
   ]
  },
  {
   "cell_type": "code",
   "execution_count": null,
   "id": "abf89748",
   "metadata": {
    "id": "abf89748"
   },
   "outputs": [],
   "source": [
    "!python main.py OBESIDAD 1 5 setfit-cregex AL True\n",
    "!python main.py OBESIDAD_TIPOS 1 5 setfit-cregex AL True\n",
    "!python main.py FUMADOR 1 5 setfit-cregex AL True"
   ]
  },
  {
   "cell_type": "code",
   "execution_count": null,
   "id": "H0ryK8mOuDC2",
   "metadata": {
    "id": "H0ryK8mOuDC2"
   },
   "outputs": [],
   "source": [
    "xyz"
   ]
  },
  {
   "cell_type": "code",
   "execution_count": null,
   "id": "42032c0a",
   "metadata": {
    "id": "42032c0a"
   },
   "outputs": [],
   "source": [
    "!python main.py OBESIDAD 1 1 setfit PL False\n",
    "!python main.py OBESIDAD_TIPOS 1 1 setfit PL False\n",
    "!python main.py FUMADOR 1 1 setfit PL False\n",
    "\n",
    "!python main.py OBESIDAD 1 1 setfit-cregex AL False\n",
    "!python main.py OBESIDAD_TIPOS 1 1 setfit-cregex AL False\n",
    "!python main.py FUMADOR 1 1 setfit-cregex AL False\n",
    "\n",
    "!python main.py OBESIDAD 1 1 setfit AL False\n",
    "!python main.py OBESIDAD_TIPOS 1 1 setfit AL False\n",
    "!python main.py FUMADOR 1 1 setfit AL False"
   ]
  }
 ],
 "metadata": {
  "accelerator": "GPU",
  "colab": {
   "gpuType": "T4",
   "provenance": []
  },
  "kernelspec": {
   "display_name": "Python 3 (ipykernel)",
   "language": "python",
   "name": "python3"
  },
  "language_info": {
   "codemirror_mode": {
    "name": "ipython",
    "version": 3
   },
   "file_extension": ".py",
   "mimetype": "text/x-python",
   "name": "python",
   "nbconvert_exporter": "python",
   "pygments_lexer": "ipython3",
   "version": "3.10.9"
  }
 },
 "nbformat": 4,
 "nbformat_minor": 5
}
